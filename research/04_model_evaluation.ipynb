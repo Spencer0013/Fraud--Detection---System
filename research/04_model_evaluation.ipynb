{
 "cells": [
  {
   "cell_type": "code",
   "execution_count": 1,
   "id": "aaff30ff",
   "metadata": {},
   "outputs": [],
   "source": [
    "import os"
   ]
  },
  {
   "cell_type": "code",
   "execution_count": 2,
   "id": "fcdb3369",
   "metadata": {},
   "outputs": [
    {
     "data": {
      "text/plain": [
       "'c:\\\\Users\\\\ainao\\\\OneDrive\\\\Project\\\\Fraud detection system\\\\Fraud--Detection---System\\\\research'"
      ]
     },
     "execution_count": 2,
     "metadata": {},
     "output_type": "execute_result"
    }
   ],
   "source": [
    "%pwd"
   ]
  },
  {
   "cell_type": "code",
   "execution_count": 3,
   "id": "3ea35bfd",
   "metadata": {},
   "outputs": [],
   "source": [
    "os.chdir(\"../\")"
   ]
  },
  {
   "cell_type": "code",
   "execution_count": 4,
   "id": "239c30d5",
   "metadata": {},
   "outputs": [
    {
     "data": {
      "text/plain": [
       "'c:\\\\Users\\\\ainao\\\\OneDrive\\\\Project\\\\Fraud detection system\\\\Fraud--Detection---System'"
      ]
     },
     "execution_count": 4,
     "metadata": {},
     "output_type": "execute_result"
    }
   ],
   "source": [
    "%pwd"
   ]
  },
  {
   "cell_type": "code",
   "execution_count": 5,
   "id": "7f84cde8",
   "metadata": {},
   "outputs": [],
   "source": [
    "from dataclasses import dataclass\n",
    "from pathlib import Path\n",
    "@dataclass\n",
    "class ModelEvaluationConfig:\n",
    "    root_dir : Path\n",
    "    best_model_path: Path\n",
    "    save_path : Path\n",
    "    "
   ]
  },
  {
   "cell_type": "code",
   "execution_count": 6,
   "id": "a7751efd",
   "metadata": {},
   "outputs": [],
   "source": [
    "from fraud_detection.utils.common import read_yaml\n",
    "from fraud_detection.constants import *\n",
    "from fraud_detection.utils.common import create_directories, save_object\n",
    "from fraud_detection.entity import DataTransformationConfig"
   ]
  },
  {
   "cell_type": "code",
   "execution_count": 7,
   "id": "1a29a49d",
   "metadata": {},
   "outputs": [],
   "source": [
    "class ConfigurationManager:\n",
    "    def __init__(self, config_filepath=CONFIG_FILE_PATH):\n",
    "        self.config = read_yaml(config_filepath)\n",
    "        create_directories([self.config.artifacts_root])\n",
    "\n",
    "    def get_data_transformation(self) -> DataTransformationConfig:\n",
    "        config = self.config.data_transformation\n",
    "\n",
    "        create_directories([config.root_dir])\n",
    "\n",
    "        data_transformation_config = DataTransformationConfig(\n",
    "            root_dir=config.root_dir,\n",
    "            train_path=config.train_path,\n",
    "            test_path=config.test_path,\n",
    "            train_data=config.train_data,\n",
    "            test_data=config.test_data,\n",
    "            preprocessor=config.preprocessor\n",
    "        )\n",
    "\n",
    "        return data_transformation_config\n",
    "\n",
    "\n",
    "    def get_model_evaluation(self) -> ModelEvaluationConfig:\n",
    "        \n",
    "        config = self.config.model_trainer.model_evaluation\n",
    "\n",
    "        create_directories([config.root_dir])\n",
    "\n",
    "        model_evaluation_config = ModelEvaluationConfig(\n",
    "            root_dir=config.root_dir,\n",
    "            best_model_path=config.best_model_path,\n",
    "            save_path =config.save_path\n",
    "                    )\n",
    "\n",
    "        return model_evaluation_config\n",
    "\n",
    "        \n",
    "\n",
    "    "
   ]
  },
  {
   "cell_type": "code",
   "execution_count": null,
   "id": "4864d527",
   "metadata": {},
   "outputs": [],
   "source": [
    "from pathlib import Path\n",
    "from fraud_detection.utils.common import save_json  \n",
    "import numpy as np\n",
    "from sklearn.metrics import (\n",
    "    f1_score,\n",
    "    roc_auc_score,\n",
    "    precision_score,\n",
    "    recall_score,\n",
    "    confusion_matrix\n",
    ")\n",
    "from fraud_detection.components.data_transformation import DataTransformation\n",
    "import logging\n",
    "import joblib \n",
    "import os\n",
    "import json\n",
    "from catboost import CatBoostClassifier\n",
    "from sklearn.metrics import (\n",
    "    precision_score, recall_score, f1_score, average_precision_score,\n",
    "    roc_auc_score, confusion_matrix, classification_report\n",
    ")"
   ]
  },
  {
   "cell_type": "code",
   "execution_count": null,
   "id": "50790d81",
   "metadata": {},
   "outputs": [],
   "source": [
    "from sklearn.metrics import (\n",
    "    precision_score, recall_score, f1_score, average_precision_score,\n",
    "    roc_auc_score, confusion_matrix, classification_report\n",
    ")\n",
    "\n",
    "class ModelEvaluator:\n",
    "    def __init__(self, config: ModelEvaluationConfig, data_transformer):\n",
    "        self.config = config\n",
    "        self.data_transformer = data_transformer\n",
    "\n",
    "    def evaluate(self):\n",
    "        logging.info(\"Preparing test split from DataTransformation.\")\n",
    "        _, test_arr = self.data_transformer.initiate_data_transformation_and_split()\n",
    "        X_test, y_test = test_arr[:, :-1], test_arr[:, -1]\n",
    "        assert X_test.shape[0] == y_test.shape[0], \"Mismatched X_test/y_test sizes.\"\n",
    "\n",
    "        logging.info(\"Loading saved CatBoost model from %s\", str(self.config.best_model_path))\n",
    "        model = CatBoostClassifier()\n",
    "        model.load_model(str(self.config.best_model_path))\n",
    "\n",
    "        logging.info(\"Scoring test data with the saved model.\")\n",
    "        y_pred = np.asarray(model.predict(X_test)).ravel().astype(int)\n",
    "\n",
    "        # Probabilities \n",
    "        y_prob = None\n",
    "        if hasattr(model, \"predict_proba\"):\n",
    "            y_prob = model.predict_proba(X_test)[:, 1]\n",
    "        elif hasattr(model, \"decision_function\"):\n",
    "            s = model.decision_function(X_test); smin, smax = s.min(), s.max()\n",
    "            y_prob = (s - smin) / (smax - smin + 1e-12)\n",
    "\n",
    "        # Metrics \n",
    "        precision = float(precision_score(y_test, y_pred, zero_division=0))\n",
    "        recall    = float(recall_score(y_test, y_pred, zero_division=0))\n",
    "        f1        = float(f1_score(y_test, y_pred, zero_division=0))\n",
    "        f2        = float(((1+4)*precision*recall)/(4*precision+recall)) if (precision+recall)>0 else 0.0\n",
    "\n",
    "        # PR AUC (never null)\n",
    "        try:\n",
    "            if y_prob is None:\n",
    "                pr_auc = 0.0\n",
    "            else:\n",
    "                y_prob = np.clip(np.asarray(y_prob, dtype=float).ravel(), 0.0, 1.0)\n",
    "                pr_auc = float(average_precision_score(np.asarray(y_test, dtype=int).ravel(), y_prob))\n",
    "        except Exception:\n",
    "            pr_auc = 0.0\n",
    "\n",
    "        # ROC AUC \n",
    "        try:\n",
    "            roc_auc = float(roc_auc_score(np.asarray(y_test, dtype=int).ravel(), y_prob)) if y_prob is not None else 0.0\n",
    "        except Exception:\n",
    "            roc_auc = 0.0\n",
    "\n",
    "        # Confusion Matrix\n",
    "        cm = confusion_matrix(np.asarray(y_test, dtype=int).ravel(), y_pred, labels=[0, 1])\n",
    "        # Ensure JSON\n",
    "        cm_list = cm.tolist()\n",
    "        if cm.size == 4:\n",
    "            tn, fp, fn, tp = [int(x) for x in cm.ravel()]\n",
    "        else:\n",
    "            tn = fp = fn = tp = None  \n",
    "\n",
    "        # Classification Report\n",
    "        cls_report = classification_report(\n",
    "            np.asarray(y_test, dtype=int).ravel(),\n",
    "            y_pred,\n",
    "            output_dict=True,\n",
    "            zero_division=0\n",
    "        )\n",
    "\n",
    "        metrics = {\n",
    "            \"pr_auc\": pr_auc,\n",
    "            \"roc_auc\": roc_auc, \n",
    "            \"recall\": recall,\n",
    "            \"precision\": precision,\n",
    "            \"f1\": f1,\n",
    "            \"f2\": f2,\n",
    "            \"confusion_matrix\": { \n",
    "                \"labels_order\": [0, 1],\n",
    "                \"matrix\": cm_list,\n",
    "                \"tn\": tn, \"fp\": fp, \"fn\": fn, \"tp\": tp\n",
    "            },\n",
    "            \"classification_report\": cls_report \n",
    "        }\n",
    "\n",
    "        with open(self.config.save_path, \"w\", encoding=\"utf-8\") as f:\n",
    "            json.dump(metrics, f, indent=2)\n",
    "\n",
    "        logging.info(\"Evaluation results saved to %s\", str(self.config.save_path))\n",
    "        return self.config.save_path, metrics\n"
   ]
  },
  {
   "cell_type": "code",
   "execution_count": 10,
   "id": "f3f9ec65",
   "metadata": {},
   "outputs": [
    {
     "name": "stdout",
     "output_type": "stream",
     "text": [
      "[2025-10-26 10:45:35,955: INFO: common: yaml file: config\\config.yaml loaded successfully]\n",
      "[2025-10-26 10:45:35,961: INFO: common: created directory at: artifacts]\n",
      "[2025-10-26 10:45:35,966: INFO: common: created directory at: artifacts/data_transformation]\n",
      "[2025-10-26 10:45:35,969: INFO: common: created directory at: artifacts/model_evaluation]\n",
      "[2025-10-26 10:45:35,970: INFO: 76804375: Preparing test split from DataTransformation.]\n",
      "[2025-10-26 10:45:56,792: INFO: data_transformation: Building preprocessing pipeline.]\n",
      "[2025-10-26 10:45:57,519: INFO: data_transformation: Applying preprocessing pipeline.]\n",
      "[2025-10-26 10:45:59,921: INFO: 76804375: Loading saved CatBoost model from artifacts/model_trainer/model.pkl]\n",
      "[2025-10-26 10:46:00,186: INFO: 76804375: Scoring test data with the saved model.]\n",
      "[2025-10-26 10:46:00,566: INFO: 76804375: Evaluation results saved to artifacts/model_evaluation/evaluation_results.json]\n"
     ]
    }
   ],
   "source": [
    "try:\n",
    "    config = ConfigurationManager()\n",
    "    data_transformation_config = config.get_data_transformation()\n",
    "    data_transformer = DataTransformation(config=data_transformation_config)\n",
    "    model_evaluation_config = config.get_model_evaluation()\n",
    "    model_evaluation= ModelEvaluator(config=model_evaluation_config, data_transformer=data_transformer)\n",
    "    model_evaluation.evaluate()\n",
    "except Exception as e:\n",
    "    raise e"
   ]
  }
 ],
 "metadata": {
  "kernelspec": {
   "display_name": "fraud",
   "language": "python",
   "name": "python3"
  },
  "language_info": {
   "codemirror_mode": {
    "name": "ipython",
    "version": 3
   },
   "file_extension": ".py",
   "mimetype": "text/x-python",
   "name": "python",
   "nbconvert_exporter": "python",
   "pygments_lexer": "ipython3",
   "version": "3.10.18"
  }
 },
 "nbformat": 4,
 "nbformat_minor": 5
}
