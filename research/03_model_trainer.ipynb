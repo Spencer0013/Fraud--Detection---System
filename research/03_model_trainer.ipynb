{
 "cells": [
  {
   "cell_type": "code",
   "execution_count": 1,
   "id": "3cdb36e9",
   "metadata": {},
   "outputs": [],
   "source": [
    "import os"
   ]
  },
  {
   "cell_type": "code",
   "execution_count": 2,
   "id": "12850621",
   "metadata": {},
   "outputs": [
    {
     "data": {
      "text/plain": [
       "'c:\\\\Users\\\\ainao\\\\OneDrive\\\\Project\\\\Fraud detection system\\\\Fraud--Detection---System\\\\research'"
      ]
     },
     "execution_count": 2,
     "metadata": {},
     "output_type": "execute_result"
    }
   ],
   "source": [
    "%pwd"
   ]
  },
  {
   "cell_type": "code",
   "execution_count": 3,
   "id": "e78065b9",
   "metadata": {},
   "outputs": [],
   "source": [
    "os.chdir(\"../\")"
   ]
  },
  {
   "cell_type": "code",
   "execution_count": 4,
   "id": "7cc733c8",
   "metadata": {},
   "outputs": [
    {
     "data": {
      "text/plain": [
       "'c:\\\\Users\\\\ainao\\\\OneDrive\\\\Project\\\\Fraud detection system\\\\Fraud--Detection---System'"
      ]
     },
     "execution_count": 4,
     "metadata": {},
     "output_type": "execute_result"
    }
   ],
   "source": [
    "%pwd"
   ]
  },
  {
   "cell_type": "code",
   "execution_count": 5,
   "id": "934ed4d1",
   "metadata": {},
   "outputs": [],
   "source": [
    "from dataclasses import dataclass\n",
    "from pathlib import Path\n",
    "@dataclass\n",
    "class ModelTrainerConfig:\n",
    "    root_dir : Path\n",
    "    model_save_path : Path\n"
   ]
  },
  {
   "cell_type": "code",
   "execution_count": 6,
   "id": "1af68171",
   "metadata": {},
   "outputs": [],
   "source": [
    "import sys\n",
    "import os\n",
    "\n",
    "sys.path.append(os.path.abspath(\"src\"))\n",
    "from fraud_detection.utils.common import read_yaml, create_directories\n",
    "from fraud_detection.constants import *\n",
    "from fraud_detection.entity import DataTransformationConfig"
   ]
  },
  {
   "cell_type": "code",
   "execution_count": 7,
   "id": "41e551e1",
   "metadata": {},
   "outputs": [],
   "source": [
    "class ConfigurationManager:\n",
    "    def __init__(self, config_filepath=CONFIG_FILE_PATH):\n",
    "        self.config = read_yaml(config_filepath)\n",
    "        create_directories([self.config.artifacts_root])\n",
    "\n",
    "    def get_data_transformation(self) -> DataTransformationConfig:\n",
    "        config = self.config.data_transformation\n",
    "\n",
    "        create_directories([config.root_dir])\n",
    "\n",
    "        data_transformation_config = DataTransformationConfig(\n",
    "            root_dir=config.root_dir,\n",
    "            train_path=config.train_path,\n",
    "            test_path=config.test_path,\n",
    "            train_data=config.train_data,\n",
    "            test_data=config.test_data,\n",
    "            preprocessor=config.preprocessor\n",
    "        )\n",
    "\n",
    "        return data_transformation_config\n",
    "\n",
    "    def get_model_trainer(self) -> ModelTrainerConfig:\n",
    "        config = self.config.model_trainer\n",
    "\n",
    "        create_directories([config.root_dir])\n",
    "\n",
    "        model_trainer_config = ModelTrainerConfig(\n",
    "            root_dir=Path(config.root_dir),\n",
    "            model_save_path=Path(config.model_save_path),\n",
    "        )\n",
    "\n",
    "        return model_trainer_config\n"
   ]
  },
  {
   "cell_type": "code",
   "execution_count": null,
   "id": "1e00eccc",
   "metadata": {},
   "outputs": [],
   "source": [
    "from pathlib import Path\n",
    "import logging\n",
    "import numpy as np\n",
    "import pandas as pd\n",
    "from catboost import CatBoostClassifier\n"
   ]
  },
  {
   "cell_type": "code",
   "execution_count": null,
   "id": "3a5aad76",
   "metadata": {},
   "outputs": [],
   "source": [
    "\n",
    "\n",
    "BEST_PARAMS = {\n",
    "    \"border_count\": 102,\n",
    "    \"depth\": 7,\n",
    "    \"iterations\": 648,\n",
    "    \"l2_leaf_reg\": 0.20495107742294383,\n",
    "    \"learning_rate\": 0.1204262037029521,\n",
    "    \"scale_pos_weight\": 9.442828734775043,\n",
    "    \"subsample\": 0.7468055921327309,\n",
    "    \"bootstrap_type\": \"Bernoulli\",\n",
    "}\n",
    "\n",
    "class ModelTrainer:\n",
    "    def __init__(self, config, data_transformer):\n",
    "        self.config = config\n",
    "        self.data_transformer = data_transformer\n",
    "\n",
    "    \n",
    "\n",
    "    def train(self):\n",
    "        train_arr, test_arr = self.data_transformer.initiate_data_transformation_and_split()\n",
    "\n",
    "        X_train, y_train = train_arr[:, :-1], train_arr[:, -1]\n",
    "        X_test,  y_test  = test_arr[:, :-1],  test_arr[:, -1]\n",
    "\n",
    "        assert X_train.shape[0] == y_train.shape[0]\n",
    "        assert X_test.shape[0]  == y_test.shape[0]\n",
    "\n",
    "\n",
    "        logging.info(\"Initializing CatBoostClassifier with BEST_PARAMS.\")\n",
    "        model = CatBoostClassifier(\n",
    "            loss_function=\"Logloss\",\n",
    "            eval_metric=\"AUC\",\n",
    "            random_seed=42,\n",
    "            verbose=False,\n",
    "            allow_writing_files=False,\n",
    "            **BEST_PARAMS,\n",
    "        )\n",
    "\n",
    "        logging.info(\"Fitting CatBoost model on training data.\")\n",
    "        model.fit(X_train, y_train)\n",
    "\n",
    "        score = float(model.score(X_test, y_test))\n",
    "\n",
    "        model_path: Path = self.config.model_save_path\n",
    "        model_path.parent.mkdir(parents=True, exist_ok=True)\n",
    "        model.save_model(str(model_path))\n",
    "        logging.info(\"Model saved to %s\", str(model_path))\n",
    "\n",
    "        return model_path, score"
   ]
  },
  {
   "cell_type": "code",
   "execution_count": 10,
   "id": "908cb5b5",
   "metadata": {},
   "outputs": [
    {
     "name": "stdout",
     "output_type": "stream",
     "text": [
      "[2025-10-26 10:43:04,847: INFO: common: yaml file: config\\config.yaml loaded successfully]\n",
      "[2025-10-26 10:43:04,861: INFO: common: created directory at: artifacts]\n",
      "[2025-10-26 10:43:04,867: INFO: common: created directory at: artifacts/data_transformation]\n",
      "[2025-10-26 10:43:04,870: INFO: common: created directory at: artifacts/model_trainer]\n",
      "[2025-10-26 10:43:19,030: INFO: data_transformation: Building preprocessing pipeline.]\n",
      "[2025-10-26 10:43:19,322: INFO: data_transformation: Applying preprocessing pipeline.]\n",
      "[2025-10-26 10:43:20,093: INFO: 2526092707: Initializing CatBoostClassifier with BEST_PARAMS.]\n",
      "[2025-10-26 10:43:20,093: INFO: 2526092707: Fitting CatBoost model on training data.]\n",
      "[2025-10-26 10:45:07,697: INFO: 2526092707: Model saved to artifacts\\model_trainer\\model.pkl]\n"
     ]
    }
   ],
   "source": [
    "try:\n",
    "    config = ConfigurationManager()\n",
    "    data_transformation_config = config.get_data_transformation()\n",
    "    data_transformer = DataTransformation(config=data_transformation_config)\n",
    "    model_trainer_config = config.get_model_trainer()\n",
    "    model_trainer = ModelTrainer(config=model_trainer_config, data_transformer=data_transformer)\n",
    "    model_trainer.train()\n",
    "except Exception as e:\n",
    "    raise e"
   ]
  },
  {
   "cell_type": "code",
   "execution_count": null,
   "id": "719847bd",
   "metadata": {},
   "outputs": [],
   "source": []
  },
  {
   "cell_type": "code",
   "execution_count": null,
   "id": "22106750",
   "metadata": {},
   "outputs": [],
   "source": []
  },
  {
   "cell_type": "code",
   "execution_count": null,
   "id": "933953e7",
   "metadata": {},
   "outputs": [],
   "source": []
  },
  {
   "cell_type": "code",
   "execution_count": null,
   "id": "f94cff05",
   "metadata": {},
   "outputs": [],
   "source": []
  }
 ],
 "metadata": {
  "kernelspec": {
   "display_name": "fraud",
   "language": "python",
   "name": "python3"
  },
  "language_info": {
   "codemirror_mode": {
    "name": "ipython",
    "version": 3
   },
   "file_extension": ".py",
   "mimetype": "text/x-python",
   "name": "python",
   "nbconvert_exporter": "python",
   "pygments_lexer": "ipython3",
   "version": "3.10.18"
  }
 },
 "nbformat": 4,
 "nbformat_minor": 5
}
